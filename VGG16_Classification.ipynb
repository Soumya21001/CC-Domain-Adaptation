{
 "cells": [
  {
   "cell_type": "code",
   "execution_count": 1,
   "metadata": {},
   "outputs": [],
   "source": [
    "# !pip install --upgrade pip setuptools wheel\n",
    "# !pip install google-auth google-auth-oauthlib google-auth-httplib2 google-api-python-client pandas torch"
   ]
  },
  {
   "cell_type": "code",
   "execution_count": 2,
   "metadata": {},
   "outputs": [],
   "source": [
    "# conda install -c conda-forge google-api-python-client"
   ]
  },
  {
   "cell_type": "code",
   "execution_count": 3,
   "metadata": {},
   "outputs": [],
   "source": [
    "#https://drive.google.com/file/d/1k7rNdlcekzCtR1OJ3oTbUsY4k9D5nx22/view?usp=drive_link"
   ]
  },
  {
   "cell_type": "code",
   "execution_count": 4,
   "metadata": {},
   "outputs": [
    {
     "name": "stdout",
     "output_type": "stream",
     "text": [
      "Please visit this URL to authorize this application: https://accounts.google.com/o/oauth2/auth?response_type=code&client_id=19550535075-3dbc6tratna1rb30pmdbsqv269qlrid0.apps.googleusercontent.com&redirect_uri=http%3A%2F%2Flocalhost%3A52231%2F&scope=https%3A%2F%2Fwww.googleapis.com%2Fauth%2Fdrive&state=6lA7x53qbXAYdyLe2FPTHDSIxGl9MJ&access_type=offline\n"
     ]
    }
   ],
   "source": [
    "from googleapiclient.discovery import build\n",
    "from googleapiclient.http import MediaIoBaseDownload\n",
    "\n",
    "from google_auth_oauthlib.flow import InstalledAppFlow\n",
    "import pandas as pd\n",
    "import numpy as np\n",
    "import io\n",
    "\n",
    "# Define scope for Google Drive API\n",
    "SCOPES = ['https://www.googleapis.com/auth/drive']\n",
    "\n",
    "# Authenticate using OAuth\n",
    "flow = InstalledAppFlow.from_client_secrets_file(\"/Users/st/Downloads/Client Secret My First Project.json\", SCOPES)\n",
    "creds = flow.run_local_server(port=0)\n",
    "\n",
    "# Build Google Drive API service\n",
    "service = build('drive', 'v3', credentials=creds)\n",
    "\n"
   ]
  },
  {
   "cell_type": "code",
   "execution_count": 5,
   "metadata": {},
   "outputs": [
    {
     "name": "stdout",
     "output_type": "stream",
     "text": [
      "Keys inside .npz file: ['arr_0', 'arr_1']\n",
      "Array 1 Shape: (38015, 52, 52)\n"
     ]
    }
   ],
   "source": [
    "# Google Drive File ID (Replace with your actual file ID)\n",
    "file_id = \"1k7rNdlcekzCtR1OJ3oTbUsY4k9D5nx22\"\n",
    "\n",
    "# Request the file from Google Drive\n",
    "request = service.files().get_media(fileId=file_id)\n",
    "file_stream = io.BytesIO()\n",
    "downloader = MediaIoBaseDownload(file_stream, request)\n",
    "\n",
    "done = False\n",
    "while not done:\n",
    "    status, done = downloader.next_chunk()\n",
    "\n",
    "# Load .npz file into memory\n",
    "file_stream.seek(0)\n",
    "data = np.load(file_stream)\n",
    "\n",
    "# Display available arrays inside .npz\n",
    "print(\"Keys inside .npz file:\", data.files)\n",
    "\n",
    "# Example: Access a specific array (replace 'arr_0' with the actual key)\n",
    "array1 = data['arr_0']\n",
    "print(\"Array 1 Shape:\", array1.shape)"
   ]
  },
  {
   "cell_type": "code",
   "execution_count": 6,
   "metadata": {},
   "outputs": [
    {
     "name": "stdout",
     "output_type": "stream",
     "text": [
      "Array 2 Shape: (38015, 8)\n"
     ]
    }
   ],
   "source": [
    "array2 = data['arr_1']\n",
    "print(\"Array 2 Shape:\", array2.shape)"
   ]
  },
  {
   "cell_type": "code",
   "execution_count": 7,
   "metadata": {},
   "outputs": [
    {
     "name": "stdout",
     "output_type": "stream",
     "text": [
      "[[1 0 1 0 0 0 1 0]\n",
      " [1 0 1 0 0 0 1 0]\n",
      " [1 0 1 0 0 0 1 0]\n",
      " [1 0 1 0 0 0 1 0]\n",
      " [1 0 1 0 0 0 1 0]]\n"
     ]
    }
   ],
   "source": [
    "X=np.array(array1)\n",
    "Y=np.array(array2)\n",
    "print(Y[0:5])"
   ]
  },
  {
   "cell_type": "code",
   "execution_count": 8,
   "metadata": {},
   "outputs": [],
   "source": [
    "import numpy as np\n",
    "import torch\n",
    "from sklearn.model_selection import train_test_split\n",
    "import matplotlib.pyplot as plt\n",
    "from torch.utils.data import DataLoader, Subset, Dataset\n",
    "import json"
   ]
  },
  {
   "cell_type": "code",
   "execution_count": 9,
   "metadata": {},
   "outputs": [],
   "source": [
    "#conda install torchvision -c pytorch"
   ]
  },
  {
   "cell_type": "code",
   "execution_count": 10,
   "metadata": {},
   "outputs": [],
   "source": [
    "import torch\n",
    "import torch.nn as nn\n",
    "import torch.optim as optim\n",
    "import torchvision.models as models\n",
    "import torchvision.transforms as transforms\n",
    "from torch.utils.data import Dataset, DataLoader\n",
    "import numpy as np\n",
    "import matplotlib.pyplot as plt\n",
    "from tqdm import tqdm\n",
    "import sys\n",
    "import math"
   ]
  },
  {
   "cell_type": "code",
   "execution_count": 11,
   "metadata": {},
   "outputs": [
    {
     "name": "stdout",
     "output_type": "stream",
     "text": [
      "Training Samples: (30412, 52, 52), Testing Samples: (7603, 52, 52)\n",
      "[[0 0 0 0 0 0 1 0]\n",
      " [1 0 1 0 1 0 1 0]\n",
      " [1 0 1 0 1 0 1 0]\n",
      " [1 0 1 0 1 0 1 0]\n",
      " [0 1 1 0 0 0 0 0]]\n"
     ]
    }
   ],
   "source": [
    "# Convert one-hot labels to a hashable format (string) for stratified sampling\n",
    "y_str_labels = np.array([\"\".join(map(str, label)) for label in Y])\n",
    "\n",
    "# Perform stratified split based on string labels\n",
    "X_train, X_test, y_train, y_test = train_test_split(X, Y, test_size=0.2, random_state=42, stratify=y_str_labels)\n",
    "\n",
    "print(f\"Training Samples: {X_train.shape}, Testing Samples: {X_test.shape}\")\n",
    "#print(X_train)\n",
    "print(y_train[0:5])"
   ]
  },
  {
   "cell_type": "markdown",
   "metadata": {},
   "source": [
    " In following code, the label has been mapped with numbers (follow pdf to know more, its in sequence)"
   ]
  },
  {
   "cell_type": "markdown",
   "metadata": {},
   "source": [
    "Convert to pytorch tensors"
   ]
  },
  {
   "cell_type": "code",
   "execution_count": 12,
   "metadata": {},
   "outputs": [
    {
     "name": "stdout",
     "output_type": "stream",
     "text": [
      "Final Tensor Shapes:\n",
      "X_train: torch.Size([30412, 52, 52]) y_train: torch.Size([30412, 8])\n",
      "X_test: torch.Size([7603, 52, 52]) y_test: torch.Size([7603, 8])\n"
     ]
    }
   ],
   "source": [
    "# Convert to PyTorch tensors\n",
    "X_train = torch.tensor(X_train, dtype=torch.float32)  # Add channel dimension\n",
    "X_test = torch.tensor(X_test, dtype=torch.float32)\n",
    "\n",
    "y_train = torch.tensor(y_train, dtype=torch.float32)  # Keep as one-hot encoded\n",
    "y_test = torch.tensor(y_test, dtype=torch.float32)\n",
    "\n",
    "print(\"Final Tensor Shapes:\")\n",
    "print(\"X_train:\", X_train.shape, \"y_train:\", y_train.shape)\n",
    "print(\"X_test:\", X_test.shape, \"y_test:\", y_test.shape)\n",
    "\n",
    "# # Define Transformations\n",
    "transform = transforms.Compose([\n",
    "    transforms.Resize((224, 224)),  # Resize to VGG16 input size\n",
    "    transforms.ToTensor(),  # Convert to tensor\n",
    "    transforms.Normalize(mean=[0.485, 0.456, 0.406], std=[0.229, 0.224, 0.225])  # Standard normalization\n",
    "])"
   ]
  },
  {
   "cell_type": "markdown",
   "metadata": {},
   "source": [
    "Dataset Class"
   ]
  },
  {
   "cell_type": "code",
   "execution_count": 13,
   "metadata": {},
   "outputs": [],
   "source": [
    "from torch.utils.data import Dataset\n",
    "import numpy as np\n",
    "import torch\n",
    "from PIL import Image\n",
    "\n",
    "class My_Dataset(Dataset):\n",
    "    def __init__(self, X, y, transform=None):\n",
    "        # Ensure X and y are NumPy arrays\n",
    "        if isinstance(X, torch.Tensor):\n",
    "            X = X.numpy()\n",
    "        if isinstance(y, torch.Tensor):\n",
    "            y = y.numpy()\n",
    "\n",
    "        # Ensure X has a channel dimension\n",
    "        self.images = X.astype(np.float32)  # Shape: (N, 1, 52, 52)\n",
    "\n",
    "        # Keep labels as multi-label one-hot vectors (Replace NaNs with 0 if needed)\n",
    "        self.labels = np.nan_to_num(y).astype(np.float32)\n",
    "\n",
    "        self.transform = transform\n",
    "        print(f\"Dataset initialized with {len(self.images)} samples.\")\n",
    "\n",
    "    def __len__(self):\n",
    "        return len(self.images)  # Correct dataset length\n",
    "\n",
    "    def __getitem__(self, idx):\n",
    "        image = self.images[idx]\n",
    "        label = self.labels[idx]  # Multi-label format (not single class index)\n",
    "        \n",
    "        # Convert NumPy array to PIL Image\n",
    "        image = Image.fromarray(image)  \n",
    "\n",
    "        # Ensure image has 3 channels\n",
    "        image = image.convert(\"RGB\")  # Convert grayscale to RGB\n",
    "\n",
    "        if self.transform:\n",
    "            image = self.transform(image)  # Apply transformations\n",
    "\n",
    "        return image, torch.tensor(label, dtype=torch.float32)"
   ]
  },
  {
   "cell_type": "markdown",
   "metadata": {},
   "source": [
    "Creating Training and Testing Dataset"
   ]
  },
  {
   "cell_type": "code",
   "execution_count": 14,
   "metadata": {},
   "outputs": [
    {
     "name": "stdout",
     "output_type": "stream",
     "text": [
      "Dataset initialized with 30412 samples.\n",
      "Dataset initialized with 7603 samples.\n",
      "Train Loader: 951 batches\n",
      "Test Loader: 238 batches\n",
      "Batch Shape: torch.Size([32, 3, 224, 224])\n"
     ]
    }
   ],
   "source": [
    "# Create dataset instances\n",
    "train_dataset = My_Dataset(X_train, y_train, transform=transform)\n",
    "test_dataset = My_Dataset(X_test, y_test , transform=transform)\n",
    "\n",
    "# Create DataLoaders\n",
    "train_loader = DataLoader(train_dataset, batch_size=32, shuffle=True)\n",
    "test_loader = DataLoader(test_dataset, batch_size=32, shuffle=False)\n",
    "\n",
    "print(f\"Train Loader: {len(train_loader)} batches\")\n",
    "print(f\"Test Loader: {len(test_loader)} batches\")\n",
    "\n",
    "for images, labels in train_loader:\n",
    "    print(\"Batch Shape:\", images.shape)  # Should be [BATCH_SIZE, 3, 224, 224]\n",
    "    break"
   ]
  },
  {
   "cell_type": "markdown",
   "metadata": {},
   "source": [
    "Visualising the dataset\n"
   ]
  },
  {
   "cell_type": "code",
   "execution_count": 15,
   "metadata": {},
   "outputs": [],
   "source": [
    "# Define defect class names (assuming 8 types)\n",
    "defect_classes = [\n",
    "    \"Center\", \"Donut\", \"Edge_Local\", \"Edge_Ring\", \n",
    "    \"Local\", \"Near_Full\", \"Scratch\", \"Random\"]\n",
    "\n",
    "# Function to convert one-hot encoding to human-readable labels\n",
    "def decode_labels(one_hot_vector):\n",
    "    return [defect_classes[i] for i, val in enumerate(one_hot_vector) if val == 1]"
   ]
  },
  {
   "cell_type": "code",
   "execution_count": 16,
   "metadata": {},
   "outputs": [
    {
     "data": {
      "image/png": "[encoded data removed]",
      "text/plain": [
       "<Figure size 2000x500 with 5 Axes>"
      ]
     },
     "metadata": {},
     "output_type": "display_data"
    }
   ],
   "source": [
    "# Function to visualize wafer maps\n",
    "def visualize_wafer_samples(X, y, num_samples=5):\n",
    "    fig, axes = plt.subplots(1, num_samples, figsize=(20, 5))\n",
    "\n",
    "    for i in range(num_samples):\n",
    "        idx = np.random.randint(len(X))  # Get a random index\n",
    "        image = X[idx].squeeze().numpy()  # Extract the image correctly\n",
    "        label = y[idx].numpy()  # Extract the label correctly\n",
    "        \n",
    "        # Decode one-hot labels to human-readable defect names\n",
    "        label_str = \", \".join(decode_labels(label))\n",
    "\n",
    "        axes[i].imshow(image)\n",
    "        axes[i].set_title(f\"Defects: {label_str}\")\n",
    "        axes[i].axis(\"off\")\n",
    "\n",
    "    plt.show()\n",
    "\n",
    "# Display 5 training samples\n",
    "visualize_wafer_samples(X_train, y_train)"
   ]
  },
  {
   "cell_type": "code",
   "execution_count": 17,
   "metadata": {},
   "outputs": [],
   "source": [
    "class VGG16Classifier(nn.Module):\n",
    "    def __init__(self, init_weights=True, num_class=8):\n",
    "        self.num_class = num_class\n",
    "        super(VGG16Classifier, self).__init__()\n",
    "        \n",
    "        #Fully Connected Classifier (self.classifier)\n",
    "        self.classifier = nn.Sequential(\n",
    "            nn.Dropout(),\n",
    "            nn.Linear(512 * 7 * 7, 4096),\n",
    "            nn.BatchNorm1d(4096),\n",
    "            nn.ReLU(True),\n",
    "            nn.Dropout(),\n",
    "            nn.Linear(4096, 4096),\n",
    "            nn.BatchNorm1d(4096),\n",
    "            nn.ReLU(True),\n",
    "            nn.Dropout(),\n",
    "            nn.Linear(4096, num_class), )\n",
    "        if init_weights:\n",
    "            self._initialize_weights()\n",
    "\n",
    "    def forward(self, x):\n",
    "        loss = 0\n",
    "        x = x.view(x.size(0), -1)\n",
    "        x = self.classifier(x)\n",
    "        return x\n",
    "\n",
    "    def _initialize_weights(self):\n",
    "        for m in self.modules():\n",
    "            if isinstance(m, nn.Conv2d):\n",
    "                n = m.kernel_size[0] * m.kernel_size[1] * m.out_channels\n",
    "                m.weight.data.normal_(0, math.sqrt(2. / n))\n",
    "                if m.bias is not None:\n",
    "                    m.bias.data.zero_()\n",
    "            elif isinstance(m, nn.BatchNorm2d):\n",
    "                m.weight.data.fill_(1)\n",
    "                m.bias.data.zero_()\n",
    "            elif isinstance(m, nn.Linear):\n",
    "                m.weight.data.normal_(0, 0.01)\n",
    "                m.bias.data.zero_()"
   ]
  },
  {
   "cell_type": "code",
   "execution_count": 18,
   "metadata": {},
   "outputs": [],
   "source": [
    "class MultiLabelVGG16(nn.Module):\n",
    "    def __init__(self, num_classes=8):\n",
    "        super(MultiLabelVGG16, self).__init__()\n",
    "        model = models.vgg16(pretrained=False)\n",
    "        model.load_state_dict(torch.load('/Users/st/Projects/CDADA/VGG16 Model.pth'))\n",
    "        self.feature_extractor = model.features  # Load Pretrained VGG16\n",
    "        self.feature_extractor.classifier = nn.Identity()  # Remove default classifier\n",
    "        self.classifier = VGG16Classifier(num_class=num_classes)  # Use your classifier\n",
    "\n",
    "    def forward(self, x):\n",
    "        x = self.feature_extractor(x)  # Extract features\n",
    "        x = x.view(x.size(0), -1)  # Flatten before classifier\n",
    "        x = self.classifier(x)  # Classifier outputs raw logits\n",
    "        return x  # No softmax, will use BCEWithLogitsLoss()"
   ]
  },
  {
   "cell_type": "code",
   "execution_count": null,
   "metadata": {},
   "outputs": [
    {
     "name": "stderr",
     "output_type": "stream",
     "text": [
      "/Users/st/anaconda3/lib/python3.12/site-packages/torchvision/models/_utils.py:208: UserWarning: The parameter 'pretrained' is deprecated since 0.13 and may be removed in the future, please use 'weights' instead.\n",
      "  warnings.warn(\n",
      "/Users/st/anaconda3/lib/python3.12/site-packages/torchvision/models/_utils.py:223: UserWarning: Arguments other than a weight enum or `None` for 'weights' are deprecated since 0.13 and may be removed in the future. The current behavior is equivalent to passing `weights=None`.\n",
      "  warnings.warn(msg)\n"
     ]
    }
   ],
   "source": [
    "# Device setup\n",
    "device = torch.device(\"mps\" if torch.backends.mps.is_available() else \"cpu\")\n",
    "\n",
    "# Initialize model\n",
    "num_classes = 8  # Update based on your dataset\n",
    "net = MultiLabelVGG16(num_classes=num_classes).to(device)\n",
    "\n",
    "# Define Loss and Optimizer\n",
    "loss_function = nn.BCEWithLogitsLoss()  # Multi-label classification loss\n",
    "optimizer = optim.Adam(net.parameters(), lr=3e-5)  # Adam optimizer"
   ]
  },
  {
   "cell_type": "code",
   "execution_count": null,
   "metadata": {},
   "outputs": [],
   "source": [
    "# epochs = 40  # Number of epochs\n",
    "# best_acc = 0.0  # Track best validation accuracy\n",
    "\n",
    "# for epoch in range(epochs):\n",
    "#     net.train()  # Set model to training mode\n",
    "#     total_loss = 0\n",
    "#     train_bar = tqdm(train_loader, file=sys.stdout, ncols=100)  # Progress bar\n",
    "\n",
    "#     for step, data in enumerate(train_bar):\n",
    "#         images, labels = data\n",
    "#         optimizer.zero_grad()\n",
    "\n",
    "#         images = images.float().to(device)\n",
    "#         labels = labels.float().to(device)\n",
    "\n",
    "#         outputs = net(images).to(torch.float32)  # Forward pass\n",
    "#         loss = loss_function(outputs, labels)  # Compute loss\n",
    "#         loss.backward()  # Backpropagation\n",
    "#         optimizer.step()  # Update model\n",
    "\n",
    "#         total_loss += loss.item()\n",
    "#         train_bar.desc = f\"train epoch[{epoch+1}/{epochs}] loss:{loss:.3f}\"\n",
    "\n",
    "# print(\"Finished Training\")"
   ]
  },
  {
   "cell_type": "code",
   "execution_count": null,
   "metadata": {},
   "outputs": [],
   "source": [
    "import torch\n",
    "import torch.nn.functional as F\n",
    "from tqdm import tqdm\n",
    "import sys\n",
    "\n",
    "epochs = 40  # Number of epochs\n",
    "best_acc = 0.0  # Track best validation accuracy\n",
    "\n",
    "for epoch in range(epochs):\n",
    "    net.train()  # Set model to training mode\n",
    "    total_loss = 0\n",
    "    correct_train = 0\n",
    "    total_train_samples = 0\n",
    "    train_bar = tqdm(train_loader, file=sys.stdout, ncols=100)  # Progress bar\n",
    "\n",
    "    for step, data in enumerate(train_bar):\n",
    "        images, labels = data\n",
    "        optimizer.zero_grad()\n",
    "\n",
    "        images = images.float().to(device)\n",
    "        labels = labels.float().to(device)\n",
    "\n",
    "        outputs = net(images).to(torch.float32)  # Forward pass\n",
    "        loss = loss_function(outputs, labels)  # Compute loss\n",
    "        loss.backward()  # Backpropagation\n",
    "        optimizer.step()  # Update model\n",
    "\n",
    "        total_loss += loss.item()\n",
    "\n",
    "        # **Compute Training Accuracy**\n",
    "        predicted_labels = (torch.sigmoid(outputs) > 0.5).float()  # Convert logits to binary\n",
    "        correct_train += (predicted_labels == labels).all(dim=1).sum().item()  # Count fully correct samples\n",
    "        total_train_samples += labels.size(0)\n",
    "\n",
    "        train_bar.desc = f\"train epoch[{epoch+1}/{epochs}] loss:{loss:.3f}\"\n",
    "\n",
    "    train_acc = correct_train / total_train_samples\n",
    "    print(f\"Epoch [{epoch+1}/{epochs}] - Train Loss: {total_loss/len(train_loader):.4f} | Train Acc: {train_acc:.4f}\")\n",
    "\n",
    "    # **Validation Phase**\n",
    "    net.eval()\n",
    "    correct_val = 0\n",
    "    total_val_samples = 0\n",
    "    total_val_loss = 0\n",
    "\n",
    "    with torch.no_grad():\n",
    "        for images, labels in test_loader:\n",
    "            images = images.float().to(device)\n",
    "            labels = labels.float().to(device)\n",
    "\n",
    "            outputs = net(images).to(torch.float32)\n",
    "            loss = loss_function(outputs, labels)\n",
    "\n",
    "            total_val_loss += loss.item()\n",
    "\n",
    "            # **Compute Validation Accuracy**\n",
    "            predicted_labels = (torch.sigmoid(outputs) > 0.5).float()\n",
    "            correct_val += (predicted_labels == labels).all(dim=1).sum().item()  # Count fully correct samples\n",
    "            total_val_samples += labels.size(0)\n",
    "\n",
    "    val_acc = correct_val / total_val_samples\n",
    "    print(f\"Epoch [{epoch+1}/{epochs}] - Val Loss: {total_val_loss/len(test_loader):.4f} | Val Acc: {val_acc:.4f}\")\n",
    "\n",
    "    # **Update Best Accuracy**\n",
    "    if val_acc > best_acc:\n",
    "        best_acc = val_acc\n",
    "        print(f\"✅ New Best Accuracy: {best_acc:.4f}\")\n",
    "\n",
    "print(f\"Finished Training - Best Validation Accuracy: {best_acc:.4f}\")"
   ]
  },
  {
   "cell_type": "code",
   "execution_count": null,
   "metadata": {},
   "outputs": [],
   "source": [
    "def visualize_predictions(model, dataloader, num_samples=5):\n",
    "    model.eval()\n",
    "    fig, axes = plt.subplots(1, num_samples, figsize=(15, 5))\n",
    "\n",
    "    with torch.no_grad():\n",
    "        for i, (images, labels) in enumerate(dataloader):\n",
    "            if i >= num_samples:\n",
    "                break\n",
    "\n",
    "            images = images.float().to(device)\n",
    "            labels = labels.numpy()\n",
    "\n",
    "            outputs = model(images).cpu()\n",
    "            predicted_labels = (torch.sigmoid(outputs) > 0.5).float().numpy()\n",
    "\n",
    "            image = images[0].cpu().squeeze().numpy()\n",
    "            print(f\"True Labels: {labels[0]}, Predicted: {predicted_labels[0]}\")\n",
    "\n",
    "# Visualize some predictions\n",
    "visualize_predictions(net, test_loader)"
   ]
  }
 ],
 "metadata": {
  "kernelspec": {
   "display_name": "base",
   "language": "python",
   "name": "python3"
  },
  "language_info": {
   "codemirror_mode": {
    "name": "ipython",
    "version": 3
   },
   "file_extension": ".py",
   "mimetype": "text/x-python",
   "name": "python",
   "nbconvert_exporter": "python",
   "pygments_lexer": "ipython3",
   "version": "3.12.2"
  }
 },
 "nbformat": 4,
 "nbformat_minor": 2
}
